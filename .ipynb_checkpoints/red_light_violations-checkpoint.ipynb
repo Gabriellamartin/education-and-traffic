{
 "cells": [
  {
   "cell_type": "code",
   "execution_count": 31,
   "metadata": {},
   "outputs": [
    {
     "name": "stdout",
     "output_type": "stream",
     "text": [
      "Requirement already satisfied: folium in c:\\users\\kaleb\\anaconda3\\lib\\site-packages (0.11.0)\n",
      "Requirement already satisfied: numpy in c:\\users\\kaleb\\anaconda3\\lib\\site-packages (from folium) (1.18.5)\n",
      "Requirement already satisfied: branca>=0.3.0 in c:\\users\\kaleb\\anaconda3\\lib\\site-packages (from folium) (0.4.1)\n",
      "Requirement already satisfied: requests in c:\\users\\kaleb\\anaconda3\\lib\\site-packages (from folium) (2.24.0)\n",
      "Requirement already satisfied: jinja2>=2.9 in c:\\users\\kaleb\\anaconda3\\lib\\site-packages (from folium) (2.11.2)\n",
      "Requirement already satisfied: certifi>=2017.4.17 in c:\\users\\kaleb\\anaconda3\\lib\\site-packages (from requests->folium) (2020.6.20)\n",
      "Requirement already satisfied: chardet<4,>=3.0.2 in c:\\users\\kaleb\\anaconda3\\lib\\site-packages (from requests->folium) (3.0.4)\n",
      "Requirement already satisfied: urllib3!=1.25.0,!=1.25.1,<1.26,>=1.21.1 in c:\\users\\kaleb\\anaconda3\\lib\\site-packages (from requests->folium) (1.25.9)\n",
      "Requirement already satisfied: idna<3,>=2.5 in c:\\users\\kaleb\\anaconda3\\lib\\site-packages (from requests->folium) (2.10)\n",
      "Requirement already satisfied: MarkupSafe>=0.23 in c:\\users\\kaleb\\anaconda3\\lib\\site-packages (from jinja2>=2.9->folium) (1.1.1)\n"
     ]
    },
    {
     "name": "stderr",
     "output_type": "stream",
     "text": [
      "ERROR: Could not find a version that satisfies the requirement excel_writer (from versions: none)\n",
      "ERROR: No matching distribution found for excel_writer\n"
     ]
    }
   ],
   "source": [
    "import pandas as pd\n",
    "!pip install folium"
   ]
  },
  {
   "cell_type": "code",
   "execution_count": 8,
   "metadata": {},
   "outputs": [],
   "source": [
    "path = pd.read_csv(r'C:\\Users\\Kaleb\\education-and-traffic\\Red_Light_Camera_Violations.csv')\n",
    "df = pd.DataFrame(path)"
   ]
  },
  {
   "cell_type": "code",
   "execution_count": 22,
   "metadata": {},
   "outputs": [],
   "source": [
    "def process_dataframe(df):\n",
    "    df = df.dropna()\n",
    "    agg_violations = pd.DataFrame(df.groupby(['ADDRESS', 'LATITUDE', 'LONGITUDE'])['VIOLATIONS'].sum()).reset_index()\n",
    "    return agg_violations\n",
    "def add_markers_folium_map(df, m, color):\n",
    "    # Add markers in the location of the radars\n",
    "    for i in range(0,len(df)):\n",
    "        folium.Circle(\n",
    "        location=[df['LATITUDE'][i], df['LONGITUDE'][i]],\n",
    "        popup='ADDRESS: ' + df['ADDRESS'][i] + ', #VIOLATIONS = %i' %df['VIOLATIONS'][i],\n",
    "        radius=float(df['VIOLATIONS'][i])*0.007,\n",
    "        color=color,\n",
    "        fill=True,\n",
    "        fill_color=color\n",
    "    ).add_to(m)\n",
    "    return m"
   ]
  },
  {
   "cell_type": "code",
   "execution_count": 24,
   "metadata": {},
   "outputs": [
    {
     "data": {
      "text/html": [
       "<div>\n",
       "<style scoped>\n",
       "    .dataframe tbody tr th:only-of-type {\n",
       "        vertical-align: middle;\n",
       "    }\n",
       "\n",
       "    .dataframe tbody tr th {\n",
       "        vertical-align: top;\n",
       "    }\n",
       "\n",
       "    .dataframe thead th {\n",
       "        text-align: right;\n",
       "    }\n",
       "</style>\n",
       "<table border=\"1\" class=\"dataframe\">\n",
       "  <thead>\n",
       "    <tr style=\"text-align: right;\">\n",
       "      <th></th>\n",
       "      <th>ADDRESS</th>\n",
       "      <th>LATITUDE</th>\n",
       "      <th>LONGITUDE</th>\n",
       "      <th>VIOLATIONS</th>\n",
       "    </tr>\n",
       "  </thead>\n",
       "  <tbody>\n",
       "    <tr>\n",
       "      <th>0</th>\n",
       "      <td>0 N ASHLAND AVE</td>\n",
       "      <td>41.881499</td>\n",
       "      <td>-87.666951</td>\n",
       "      <td>12511</td>\n",
       "    </tr>\n",
       "    <tr>\n",
       "      <th>1</th>\n",
       "      <td>0 N HAMLIN BOULEVARD</td>\n",
       "      <td>41.880841</td>\n",
       "      <td>-87.720902</td>\n",
       "      <td>9981</td>\n",
       "    </tr>\n",
       "    <tr>\n",
       "      <th>2</th>\n",
       "      <td>0 S CENTRAL AVENUE</td>\n",
       "      <td>41.880196</td>\n",
       "      <td>-87.765010</td>\n",
       "      <td>802</td>\n",
       "    </tr>\n",
       "    <tr>\n",
       "      <th>3</th>\n",
       "      <td>1 E 63RD ST</td>\n",
       "      <td>41.779949</td>\n",
       "      <td>-87.625290</td>\n",
       "      <td>21808</td>\n",
       "    </tr>\n",
       "    <tr>\n",
       "      <th>4</th>\n",
       "      <td>1 E 75TH STREET</td>\n",
       "      <td>41.758074</td>\n",
       "      <td>-87.624672</td>\n",
       "      <td>28836</td>\n",
       "    </tr>\n",
       "  </tbody>\n",
       "</table>\n",
       "</div>"
      ],
      "text/plain": [
       "                ADDRESS   LATITUDE  LONGITUDE  VIOLATIONS\n",
       "0       0 N ASHLAND AVE  41.881499 -87.666951       12511\n",
       "1  0 N HAMLIN BOULEVARD  41.880841 -87.720902        9981\n",
       "2    0 S CENTRAL AVENUE  41.880196 -87.765010         802\n",
       "3           1 E 63RD ST  41.779949 -87.625290       21808\n",
       "4       1 E 75TH STREET  41.758074 -87.624672       28836"
      ]
     },
     "execution_count": 24,
     "metadata": {},
     "output_type": "execute_result"
    }
   ],
   "source": [
    "viol_red_light = process_dataframe(df)\n",
    "viol_red_light.head()"
   ]
  },
  {
   "cell_type": "code",
   "execution_count": 41,
   "metadata": {},
   "outputs": [],
   "source": [
    "compression_opts = dict(method='zip', archive_name='viol_red_light.csv')\n",
    "df.to_csv('viol_red_light.csv', index=False, compression=compression_opts)"
   ]
  },
  {
   "cell_type": "code",
   "execution_count": null,
   "metadata": {},
   "outputs": [],
   "source": []
  }
 ],
 "metadata": {
  "kernelspec": {
   "display_name": "Python 3",
   "language": "python",
   "name": "python3"
  },
  "language_info": {
   "codemirror_mode": {
    "name": "ipython",
    "version": 3
   },
   "file_extension": ".py",
   "mimetype": "text/x-python",
   "name": "python",
   "nbconvert_exporter": "python",
   "pygments_lexer": "ipython3",
   "version": "3.8.3"
  }
 },
 "nbformat": 4,
 "nbformat_minor": 4
}
